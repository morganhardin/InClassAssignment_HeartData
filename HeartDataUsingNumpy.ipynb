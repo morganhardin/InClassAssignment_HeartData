{
 "cells": [
  {
   "cell_type": "markdown",
   "id": "acadb2bb",
   "metadata": {},
   "source": [
    "## Analyzing Heart Data"
   ]
  },
  {
   "cell_type": "markdown",
   "id": "599430ec",
   "metadata": {},
   "source": [
    "### Importing Libraries"
   ]
  },
  {
   "cell_type": "code",
   "execution_count": 1,
   "id": "79b718d2",
   "metadata": {},
   "outputs": [],
   "source": [
    "import numpy as np"
   ]
  },
  {
   "cell_type": "markdown",
   "id": "b22009cd",
   "metadata": {},
   "source": [
    "### Loading Heart Data from CSV File"
   ]
  },
  {
   "cell_type": "code",
   "execution_count": 2,
   "id": "ef4bcfff",
   "metadata": {},
   "outputs": [],
   "source": [
    "data=np.genfromtxt(\"heart.csv\", delimiter=\",\", skip_header=True)"
   ]
  },
  {
   "cell_type": "code",
   "execution_count": 3,
   "id": "d16a02b2",
   "metadata": {},
   "outputs": [
    {
     "data": {
      "text/plain": [
       "array([[63.,  1.,  3., ...,  0.,  1.,  1.],\n",
       "       [37.,  1.,  2., ...,  0.,  2.,  1.],\n",
       "       [41.,  0.,  1., ...,  0.,  2.,  1.],\n",
       "       ...,\n",
       "       [68.,  1.,  0., ...,  2.,  3.,  0.],\n",
       "       [57.,  1.,  0., ...,  1.,  3.,  0.],\n",
       "       [57.,  0.,  1., ...,  1.,  2.,  0.]])"
      ]
     },
     "execution_count": 3,
     "metadata": {},
     "output_type": "execute_result"
    }
   ],
   "source": [
    "data"
   ]
  },
  {
   "cell_type": "markdown",
   "id": "1f7a9998",
   "metadata": {},
   "source": [
    "### Extracting Relevant Columns"
   ]
  },
  {
   "cell_type": "markdown",
   "id": "a331f85b",
   "metadata": {},
   "source": [
    "- CP: Chest Pain\n",
    "- Trestbps: Resting Blood Pressure\n",
    "- Chol: Cholesterol\n",
    "- FBS: fasting Blood Sugar\n",
    "- Rest ECG: Resting Electrocardiograms\n",
    "- Thalach: Maximum Heart Rate Achieved\n",
    "- Exang: Exercise Induced Angina\n",
    "- Oldpeak: ST Depression Caused by Activity in Comparison at Rest\n",
    "- Slope: ST Segment Shift Relative to Exercise-Induced Increments in Heart Rate\n",
    "- Ca: Number of Major Vessels\n",
    "- Thal: Blood Disorder called Thalssemia\n",
    "- Target: Heart Disease"
   ]
  },
  {
   "cell_type": "code",
   "execution_count": 46,
   "id": "4b57fed2",
   "metadata": {},
   "outputs": [
    {
     "name": "stdout",
     "output_type": "stream",
     "text": [
      "age: [63. 37. 41. 56. 57.]\n",
      "sex: [1. 1. 0. 1. 0.]\n",
      "cp: [3. 2. 1. 1. 0.]\n",
      "chol: [233. 250. 204. 236. 354.]\n",
      "thalach: [150. 187. 172. 178. 163.]\n",
      "slope: [0. 0. 2. 2. 2.]\n",
      "target: [1. 1. 1. 1. 1.]\n"
     ]
    }
   ],
   "source": [
    "# slightly filtered data\n",
    "age=data[:,0]\n",
    "print(f\"age: {age[:5]}\")\n",
    "sex=data[:,1]\n",
    "print(f\"sex: {sex[:5]}\")\n",
    "cp=data[:,2]\n",
    "print(f\"cp: {cp[:5]}\")\n",
    "chol=data[:,4]\n",
    "print(f\"chol: {chol[:5]}\")\n",
    "thalach=data[:,7]\n",
    "print(f\"thalach: {thalach[:5]}\")\n",
    "slope=data[:,10]\n",
    "print(f\"slope: {slope[:5]}\")\n",
    "target=data[:,13]\n",
    "print(f\"target: {target[:5]}\")"
   ]
  },
  {
   "cell_type": "markdown",
   "id": "20787a25",
   "metadata": {},
   "source": [
    "### Basic Descriptive Statistics"
   ]
  },
  {
   "cell_type": "markdown",
   "id": "7a5b8348",
   "metadata": {},
   "source": [
    "Mean, Median, Mode, Standard Deviation, etc"
   ]
  },
  {
   "cell_type": "code",
   "execution_count": 47,
   "id": "e1136e5f",
   "metadata": {},
   "outputs": [
    {
     "name": "stdout",
     "output_type": "stream",
     "text": [
      "---Basic Descriptive Statistics on Age---\n",
      "Mean: 54\n",
      "Median: 55.0\n",
      "Standard Deviation: 9\n",
      "Min: 29.0\n",
      "Max: 77.0\n"
     ]
    }
   ],
   "source": [
    "# age\n",
    "print(\"---Basic Descriptive Statistics on Age---\")\n",
    "print(f\"Mean: {round(np.mean(age))}\")\n",
    "print(f\"Median: {np.median(age)}\")\n",
    "print(f\"Standard Deviation: {round(np.std(age))}\")\n",
    "print(f\"Min: {np.min(age)}\")\n",
    "print(f\"Max: {np.max(age)}\")"
   ]
  },
  {
   "cell_type": "code",
   "execution_count": 48,
   "id": "ce759a59",
   "metadata": {},
   "outputs": [
    {
     "name": "stdout",
     "output_type": "stream",
     "text": [
      "---Basic Descriptive Statistics on Sex---\n",
      "Mean: 1\n",
      "Median: 1.0\n",
      "Standard Deviation: 0\n",
      "Min: 0.0\n",
      "Max: 1.0\n"
     ]
    }
   ],
   "source": [
    "# sex\n",
    "print(\"---Basic Descriptive Statistics on Sex---\")\n",
    "print(f\"Mean: {round(np.mean(sex))}\")\n",
    "print(f\"Median: {np.median(sex)}\")\n",
    "print(f\"Standard Deviation: {round(np.std(sex))}\")\n",
    "print(f\"Min: {np.min(sex)}\")\n",
    "print(f\"Max: {np.max(sex)}\")"
   ]
  },
  {
   "cell_type": "code",
   "execution_count": 49,
   "id": "f8464473",
   "metadata": {},
   "outputs": [
    {
     "name": "stdout",
     "output_type": "stream",
     "text": [
      "---Basic Descriptive Statistics on CP---\n",
      "Mean: 1\n",
      "Median: 1.0\n",
      "Standard Deviation: 1\n",
      "Min: 0.0\n",
      "Max: 3.0\n"
     ]
    }
   ],
   "source": [
    "# cp\n",
    "print(\"---Basic Descriptive Statistics on CP---\")\n",
    "print(f\"Mean: {round(np.mean(cp))}\")\n",
    "print(f\"Median: {np.median(cp)}\")\n",
    "print(f\"Standard Deviation: {round(np.std(cp))}\")\n",
    "print(f\"Min: {np.min(cp)}\")\n",
    "print(f\"Max: {np.max(cp)}\")"
   ]
  },
  {
   "cell_type": "code",
   "execution_count": 50,
   "id": "e747dbcd",
   "metadata": {},
   "outputs": [
    {
     "name": "stdout",
     "output_type": "stream",
     "text": [
      "---Basic Descriptive Statistics on Chol---\n",
      "Mean: 246\n",
      "Median: 240.0\n",
      "Standard Deviation: 52\n",
      "Min: 126.0\n",
      "Max: 564.0\n"
     ]
    }
   ],
   "source": [
    "# Chol\n",
    "print(\"---Basic Descriptive Statistics on Chol---\")\n",
    "print(f\"Mean: {round(np.mean(chol))}\")\n",
    "print(f\"Median: {np.median(chol)}\")\n",
    "print(f\"Standard Deviation: {round(np.std(chol))}\")\n",
    "print(f\"Min: {np.min(chol)}\")\n",
    "print(f\"Max: {np.max(chol)}\")"
   ]
  },
  {
   "cell_type": "code",
   "execution_count": 51,
   "id": "a8d123eb",
   "metadata": {},
   "outputs": [
    {
     "name": "stdout",
     "output_type": "stream",
     "text": [
      "---Basic Descriptive Statistics on Thalach---\n",
      "Mean: 150\n",
      "Median: 153.0\n",
      "Standard Deviation: 23\n",
      "Min: 71.0\n",
      "Max: 202.0\n"
     ]
    }
   ],
   "source": [
    "# thalach\n",
    "print(\"---Basic Descriptive Statistics on Thalach---\")\n",
    "print(f\"Mean: {round(np.mean(thalach))}\")\n",
    "print(f\"Median: {np.median(thalach)}\")\n",
    "print(f\"Standard Deviation: {round(np.std(thalach))}\")\n",
    "print(f\"Min: {np.min(thalach)}\")\n",
    "print(f\"Max: {np.max(thalach)}\")"
   ]
  },
  {
   "cell_type": "code",
   "execution_count": 52,
   "id": "029338f1",
   "metadata": {},
   "outputs": [
    {
     "name": "stdout",
     "output_type": "stream",
     "text": [
      "---Basic Descriptive Statistics on Slope---\n",
      "Mean: 1\n",
      "Median: 1.0\n",
      "Standard Deviation: 1\n",
      "Min: 0.0\n",
      "Max: 2.0\n"
     ]
    }
   ],
   "source": [
    "# slope\n",
    "print(\"---Basic Descriptive Statistics on Slope---\")\n",
    "print(f\"Mean: {round(np.mean(slope))}\")\n",
    "print(f\"Median: {np.median(slope)}\")\n",
    "print(f\"Standard Deviation: {round(np.std(slope))}\")\n",
    "print(f\"Min: {np.min(slope)}\")\n",
    "print(f\"Max: {np.max(slope)}\")"
   ]
  },
  {
   "cell_type": "markdown",
   "id": "74c149b0",
   "metadata": {},
   "source": [
    "### Data Filtering"
   ]
  },
  {
   "cell_type": "code",
   "execution_count": 53,
   "id": "73765237",
   "metadata": {},
   "outputs": [
    {
     "name": "stdout",
     "output_type": "stream",
     "text": [
      "Number of rows before filtering: 303\n"
     ]
    }
   ],
   "source": [
    "print(f\"Number of rows before filtering: {len(data)}\")"
   ]
  },
  {
   "cell_type": "code",
   "execution_count": 54,
   "id": "3b444a87",
   "metadata": {},
   "outputs": [
    {
     "name": "stdout",
     "output_type": "stream",
     "text": [
      "Number of rows after filtering: 111\n"
     ]
    }
   ],
   "source": [
    "# How many people who are over the age of 50 and have high cholesterol\n",
    "filtered_data=data[(age>50) & (chol>240)]\n",
    "print(f\"Number of rows after filtering: {len(filtered_data)}\")"
   ]
  },
  {
   "cell_type": "markdown",
   "id": "62c2952d",
   "metadata": {},
   "source": [
    "### How Many Entries in the Dataset Where:\n",
    "* Chol over or equal to 240 and \n",
    "* Age over or equal to 50 and \n",
    "* CP over or equal to 2"
   ]
  },
  {
   "cell_type": "code",
   "execution_count": 55,
   "id": "a1c7e4a8",
   "metadata": {},
   "outputs": [
    {
     "name": "stdout",
     "output_type": "stream",
     "text": [
      "Number of rows after filtering: 37\n"
     ]
    }
   ],
   "source": [
    "filtered_data1=data[(age>=50) & (chol>=240)&(cp>=2)]\n",
    "print(f\"Number of rows after filtering: {len(filtered_data1)}\")"
   ]
  },
  {
   "cell_type": "markdown",
   "id": "5649668b",
   "metadata": {},
   "source": [
    "### Number of Unique Categories\n",
    "* Unique can work for discreet variables"
   ]
  },
  {
   "cell_type": "code",
   "execution_count": 56,
   "id": "f32fab28",
   "metadata": {},
   "outputs": [
    {
     "name": "stdout",
     "output_type": "stream",
     "text": [
      "Unique Age Counts: [29. 34. 35. 37. 38. 39. 40. 41. 42. 43. 44. 45. 46. 47. 48. 49. 50. 51.\n",
      " 52. 53. 54. 55. 56. 57. 58. 59. 60. 61. 62. 63. 64. 65. 66. 67. 68. 69.\n",
      " 70. 71. 74. 76. 77.]\n",
      " How Many Unique Ages: 41\n"
     ]
    }
   ],
   "source": [
    "print(f\"Unique Age Counts: {np.unique(age)}\")\n",
    "print(f\" How Many Unique Ages: {len(np.unique(age))}\")"
   ]
  },
  {
   "cell_type": "code",
   "execution_count": 57,
   "id": "c31c0bc6",
   "metadata": {},
   "outputs": [
    {
     "name": "stdout",
     "output_type": "stream",
     "text": [
      "Unique Cholesterol Counts: [126. 131. 141. 149. 157. 160. 164. 166. 167. 168. 169. 172. 174. 175.\n",
      " 176. 177. 178. 180. 182. 183. 184. 185. 186. 187. 188. 192. 193. 195.\n",
      " 196. 197. 198. 199. 200. 201. 203. 204. 205. 206. 207. 208. 209. 210.\n",
      " 211. 212. 213. 214. 215. 216. 217. 218. 219. 220. 221. 222. 223. 224.\n",
      " 225. 226. 227. 228. 229. 230. 231. 232. 233. 234. 235. 236. 237. 239.\n",
      " 240. 241. 242. 243. 244. 245. 246. 247. 248. 249. 250. 252. 253. 254.\n",
      " 255. 256. 257. 258. 259. 260. 261. 262. 263. 264. 265. 266. 267. 268.\n",
      " 269. 270. 271. 273. 274. 275. 276. 277. 278. 281. 282. 283. 284. 286.\n",
      " 288. 289. 290. 293. 294. 295. 298. 299. 300. 302. 303. 304. 305. 306.\n",
      " 307. 308. 309. 311. 313. 315. 318. 319. 321. 322. 325. 326. 327. 330.\n",
      " 335. 340. 341. 342. 353. 354. 360. 394. 407. 409. 417. 564.]\n",
      " How Many Unique Cholesterols: 152\n"
     ]
    }
   ],
   "source": [
    "print(f\"Unique Cholesterol Counts: {np.unique(chol)}\")\n",
    "print(f\" How Many Unique Cholesterols: {len(np.unique(chol))}\")"
   ]
  },
  {
   "cell_type": "code",
   "execution_count": 58,
   "id": "d06a1765",
   "metadata": {},
   "outputs": [
    {
     "name": "stdout",
     "output_type": "stream",
     "text": [
      "Unique CP Counts: [0. 1. 2. 3.]\n",
      " How Many Unique CPs: 4\n"
     ]
    }
   ],
   "source": [
    "print(f\"Unique CP Counts: {np.unique(cp)}\")\n",
    "print(f\" How Many Unique CPs: {len(np.unique(cp))}\")"
   ]
  },
  {
   "cell_type": "markdown",
   "id": "520870a4",
   "metadata": {},
   "source": [
    "### Correlation \n",
    "Default rowvar= True ( calculate the corelation for each rows)\n",
    "rowvar= False (each column represent a variable)"
   ]
  },
  {
   "cell_type": "code",
   "execution_count": 59,
   "id": "c83ea669",
   "metadata": {},
   "outputs": [
    {
     "name": "stdout",
     "output_type": "stream",
     "text": [
      "Corr price and area [[1.         0.21367796]\n",
      " [0.21367796 1.        ]]\n"
     ]
    }
   ],
   "source": [
    "# age and chol correlation\n",
    "corr_age_chol=np.corrcoef(age,chol,rowvar=False)\n",
    "print(f\"Corr price and area {corr_age_chol}\")"
   ]
  },
  {
   "cell_type": "code",
   "execution_count": 60,
   "id": "d0d7e884",
   "metadata": {},
   "outputs": [
    {
     "name": "stdout",
     "output_type": "stream",
     "text": [
      "Corr price and area [[ 1.         -0.06865302]\n",
      " [-0.06865302  1.        ]]\n"
     ]
    }
   ],
   "source": [
    "# age and cp correlation\n",
    "corr_age_cp=np.corrcoef(age,cp,rowvar=False)\n",
    "print(f\"Corr price and area {corr_age_cp}\")"
   ]
  },
  {
   "cell_type": "code",
   "execution_count": 61,
   "id": "4bc00082",
   "metadata": {},
   "outputs": [
    {
     "name": "stdout",
     "output_type": "stream",
     "text": [
      "Corr price and area [[ 1.         -0.07690439]\n",
      " [-0.07690439  1.        ]]\n"
     ]
    }
   ],
   "source": [
    "# cp and chol correlation\n",
    "corr_cp_chol=np.corrcoef(cp,chol,rowvar=False)\n",
    "print(f\"Corr price and area {corr_cp_chol}\")"
   ]
  },
  {
   "cell_type": "markdown",
   "id": "10823132",
   "metadata": {},
   "source": [
    "###  Correlation Analysis\n",
    "- Age and Chol: 21% (weak positive)\n",
    "- Age and CP: -7% (very weak negative) \n",
    "- Chol and CP: -8% (very weak negative)"
   ]
  },
  {
   "cell_type": "markdown",
   "id": "bd6e9c9e",
   "metadata": {},
   "source": [
    "### Summary"
   ]
  },
  {
   "cell_type": "markdown",
   "id": "53bdbe3e",
   "metadata": {},
   "source": [
    "This dataset shows that there is a weak positive correlation between age and cholesterol in determining if a person has a heart disease. There is also almost no correlation between age and cp as well as cp and cholesterol. This shows that as a person's age goes up, their cholesterol is likely to go up as well. This is also not reliant on cp so as the age and cholesterol go up, cp is not likely to go up since it is not correlated. Overall, the dataset shows that a person who is older and has higher cholesterol are likely to have heart disease."
   ]
  }
 ],
 "metadata": {
  "kernelspec": {
   "display_name": "Python 3 (ipykernel)",
   "language": "python",
   "name": "python3"
  },
  "language_info": {
   "codemirror_mode": {
    "name": "ipython",
    "version": 3
   },
   "file_extension": ".py",
   "mimetype": "text/x-python",
   "name": "python",
   "nbconvert_exporter": "python",
   "pygments_lexer": "ipython3",
   "version": "3.9.12"
  }
 },
 "nbformat": 4,
 "nbformat_minor": 5
}
